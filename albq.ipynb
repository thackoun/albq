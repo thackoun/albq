{
 "cells": [
  {
   "cell_type": "markdown",
   "metadata": {},
   "source": [
    "# ALB-$\\mathbb{Q}$*\n",
    "\n",
    "#### * A Little Bit Rational\n",
    "\n",
    "###### thibault toledano\n",
    "\n",
    "\n",
    "###### TL;DR\n",
    "ALB-$\\mathbb{Q}$ est un outil qui permet de calculer la probabilité qu'une phrase soit exacte. C'est réalisé en notant toute les relations logiques que l'on connait... Les utilisateurs de ALB-$\\mathbb{Q}$ peuvent voter pour donner leur avis sur une phrase. "
   ]
  },
  {
   "cell_type": "markdown",
   "metadata": {},
   "source": [
    "### Description générale\n",
    "\n",
    "###### Chaque phrase est une proposition mathématique. \n",
    "\n",
    "Exemple de phrases :\n",
    "\n",
    "* A = le ciel est bleu pendant la journée\n",
    "* B = le ciel est vert\n",
    "* C = Gerard dit que le ciel est vert\n",
    "* D = Gerard a toujours raison\n",
    "* E = le ciel n'est pas bleu\n",
    "* F = La diffusion de Rayleigh rend le ciel bleu en journée\n",
    "\n",
    "###### Il existe des relations entre propositions. Certaines propositions en entrainant d'autres.\n",
    "\n",
    "Exemple de relations, \n",
    "\n",
    "en notant \"et\" \".\", en notant \"ou\" \"+\", en notant \"la négation de \"$\\neg$\", et \"implique\" \"$\\rightarrow$\"\n",
    "\n",
    "* \"Gerard dit que le ciel est vert\".\"Gerard a toujours raison\" $\\rightarrow$ \"le ciel est vert\"\n",
    "* \"le ciel est vert\" $\\rightarrow$ $\\neg$ \"le ciel est bleu pendant la journée\"\n",
    "* \"le ciel est bleu pendant la journée\" $\\rightarrow$ $\\neg$ \"le ciel est vert\"\n",
    "* \"La diffusion de Rayleigh rend le ciel bleu en journée\" $\\rightarrow$ \"le ciel est bleu pendant la journée\"\n",
    "* \"le ciel est vert\" $\\rightarrow$  \"le ciel n'est pas bleu\"\n",
    "\n",
    "ce que l'on peut noter :\n",
    "\n",
    "* C.D  $\\rightarrow$ B \n",
    "* B $\\rightarrow$ $\\neg$ A\n",
    "* A $\\rightarrow$ $\\neg$ B\n",
    "* F $\\rightarrow$ A\n",
    "* B $\\rightarrow$ E\n",
    "\n",
    "###### Chaque proposition est associée à une valeur décrivant la probabilité que cette proposition soit vraie.\n",
    "\n",
    "Typiquement cette valeur est la probabilité de la proposition.\n",
    "\n",
    "Pour certaines propositions la valeur de probabilité est fixée, car provenant d'une source extérieure. Par exemple la probabilité d'existence du boson BEH peut-être donné par les papiers publiés par le CERN.\n",
    "\n",
    "###### Chaque proposition est associée à un descripteur de la quantité d'informations permettant d'associé la proposition à sa probabilité.\n",
    "\n",
    "En première approximation, ce descripteur est la fonction de répartition de la probabilité de la proposition.\n",
    "\n",
    "###### Chaque utilisateur peut donner son avis sur n'importe quelle proposition.\n",
    "\n",
    "Un utilisateur peut donner son avis sur une proposition.\n",
    "\n",
    "L'ensemble des avis des utilisateurs est ensuite moyenné pour donner une relation de la form :\n",
    "\n",
    "* \"l'ensemble des utilisateur pensent que cette proposition est vraie\".\"les utilisateur ont raisons\"  $\\rightarrow$ la proposition ..\n",
    "\n",
    "évidemment, la première proposition a comme probabilité la proportion des utilisateurs à penser cette proposition (ou un estimateur de cette probabilité ..), et la seconde proposition est la proportion, globalement, d'erreurs entre l'avis des utilisateurs et les probabilités calculés par ALB-$\\mathbb{Q}$."
   ]
  },
  {
   "cell_type": "markdown",
   "metadata": {},
   "source": [
    "### Fonctionnement général\n",
    "\n",
    "Les données que ALB-$\\mathbb{Q}$ traitent peuvent donc se résumer en quatre catégories :\n",
    "\n",
    "- les propositions, avec leur probabilité et leur descripteur de quantité d'information\n",
    "- l'ensemble des relations entre propositions\n",
    "- les avis des utilisateurs sur telle ou telle proposition\n",
    "\n",
    "ALB-$\\mathbb{Q}$ transforme l'ensemble des relations en un système d'équations booléeennes.\n",
    "\n",
    "Ensuite un système, encore à définir, résoud ce système d'équation pour avoir les propositions sous la forme :\n",
    "\n",
    "* $ A = f($ propositions dont les descripteurs sont connus $)$\n",
    "\n",
    "Ensuite on calcul les descripteurs des propositions de manière incrémentale.\n"
   ]
  },
  {
   "cell_type": "markdown",
   "metadata": {},
   "source": [
    "### Descripteur de la quantité d'information\n",
    "\n",
    "La fonction de repartition de la probabilité de la proposition fait office de descripteur de la connaissance que l'on a sur l'etat d'une proposition. \n",
    "\n",
    "Il est important d'avoir un descripteur de la quantité d'information.\n",
    "\n",
    "Par exemple, si nous avons :\n",
    "\n",
    "* $ A + B \\rightarrow C $\n",
    "\n",
    "Par exemple, si nous pouvons avoir une connaissance faible sur A, et une connaissance importante sur B. \n",
    "\n",
    "la connaissance sur C est equivalente a celle sur B. Leur fonction de repartition de leurs probabilite devraient etre les memes.\n",
    "\n",
    "De même si nous peu d'informations sur A et B, ce manque d'information devrait se répercuter sur C.\n",
    "\n",
    "Note : a priori une tel descripteur est la fonction de repartition de la probabilité, mais il est tout à fait posssible que, en realité, une telle fonction soit la fonction de reparition de la fonction de reparition de la probabilité  ... c'est une chose tres difficile a savoir a ce point de la reflexion. Dans un premier temps, on suppose que c'est bien la fonction de la repartition, et on fait les calculs dessus.\n",
    "\n",
    "\n",
    "###### Cas où le descripteur a utiliser serait la fonction de repartition de la fonction de reparition de La probalite\n",
    "Dans ce cas, a priori, le descripteur associé à une connaissance nulle serait une matrice uniforme.\n"
   ]
  },
  {
   "cell_type": "code",
   "execution_count": 4,
   "metadata": {
    "collapsed": false
   },
   "outputs": [
    {
     "name": "stdout",
     "output_type": "stream",
     "text": [
      "Populating the interactive namespace from numpy and matplotlib\n"
     ]
    }
   ],
   "source": [
    "import numpy as np\n",
    "import matplotlib.pyplot as plt\n",
    "%pylab inline"
   ]
  },
  {
   "cell_type": "code",
   "execution_count": 5,
   "metadata": {
    "collapsed": false
   },
   "outputs": [
    {
     "data": {
      "image/png": "[encoded data removed]",
      "text/plain": [
       "<matplotlib.figure.Figure at 0x10485f190>"
      ]
     },
     "metadata": {},
     "output_type": "display_data"
    }
   ],
   "source": [
    "# exemple de fonction de repartion de la probabilte :\n",
    "\n",
    "# probabilite de la proposition = 0.5, mais avec une information assez faible dessus,\n",
    "#donc la fonction de repartion de la probabilite est etalee\n",
    "\n",
    "\n",
    "n = 100\n",
    "\n",
    "fpc = np.sin(np.arange(n)*np.pi/(n))\n",
    "fpc = fpc / fpc.sum()\n",
    "\n",
    "plot(fpc);"
   ]
  },
  {
   "cell_type": "markdown",
   "metadata": {},
   "source": [
    "\n",
    "\n",
    "## Points difficiles\n",
    "\n",
    "###### résolution du système d'équations\n",
    "\n",
    "la méthode de résolution du systeme d'équations booléennes reste encore à trouver.\n",
    "\n",
    "###### propositions quasi-certaines\n",
    "\n",
    "Il y a-t-il plus de difference entre une proposition vraie à 50% et une à 60%, ou entre une à 90% et une à 99.99999999% ?\n",
    "\n",
    "Si c'est la seconde possibilité, alors il faut un système correct de gestion des probabilité très proche de 1 et très proche de 0.\n",
    "\n",
    "###### element neutre\n",
    "Normalement un élément neutre est typiquement un élément sur lequel nous ne possédons aucune information. Voyons comment cela se retranscrit dans les fait.\n",
    "\n",
    "Un element neutre est un element A tel que pour tout evenement X on ait $P(A\\&X)=P(A)$ et $P(A||X)=P(X)$. Il suffit de prendre des evenements independants de A pour voir que l'on a forcement $P(A)=0$.\n",
    "\n",
    "Le seul soucis etant que non A est a priori aussi un element neutre, or on ne peut avoir $P(\\neg A)=P(A)=0$. Alors comment gérer les propositions sur lesquels l'information est quasiment nulle, mais dont la probabilité n'est pas nulle ? (en l'état de la connaissance, comme on dit ...)\n",
    "\n",
    "## Voies à envisager\n",
    "\n",
    "* Pour le descripteur de l'information disponible sur une proposition :\n",
    "\n",
    "en notant \n",
    "\n",
    "$H^n(P(A)) = F_{H^{n-1}(P(A))}(t)$\n",
    "\n",
    "avec \n",
    "\n",
    "$H^1(P(A)) = F_{P(A)}(t)$\n",
    "\n",
    "faut-il prendre en compte la suite $H^1, H^2, H^3, ... , H^i, ... $  ?\n",
    "\n",
    "\n",
    "* et quid de juste considerer un descripteur constitué de la probabilité de l'évenement, et de la connaissance (sous forme par exemple d'un scalaire) qu'on a sure lui ?\n",
    "\n",
    "on pourrait avoir des evenement de probabilité non nulle et d'information nulle, \n",
    "\n",
    "un peu comme un dirac qui est d'intégrale 1 mais qui est infinement fin ...\n",
    "\n",
    "et puis il y a une subtilité qui semble encore faire défaut ... \n",
    "un peu comme on prend la probabilité d'avoir une chose pour décrire la difficulté d'avoir la chose ...\n",
    "par exemple gagner au loto c'est moins probable que de rentrer à l'ENS, mais est-ce que c'est dur ? est-ce qu'on peut parler de difficulté ?\n",
    "\n",
    "* et sinon les difficultés que j'ai pour les systèmes avec peu d'information, ça fait pas un peu penser à une mesure de lebesgues ?\n",
    "\n",
    "\n",
    "* note du 27 novembre : \n",
    "je me demande maintenant si l'information (ou le manque d'information) sur une proposition ne serait pas compris dans le graph ... du coup si on n'a aucune information sur une proposition on pourrait en fait supposer une certaine configuration dans le graphe ? genre une configuration moyenne ? \n",
    "\n",
    "\n",
    "#### idées pour l'incertitude :\n",
    "trouver la variation de la probabilité d'une proposition A en fonction de la variation des probabilités des propositions B_i dont dépend A :\n",
    "\n",
    "$\\frac{d(F_A(t))}{d(F_{B_i(t)})} $\n",
    "\n",
    "et après on prend la plus grande des dérivés partielles, ou la moyenne ou ce genre de chose ...\n",
    "\n",
    "Du coup l'incertitude correspondrait juste à l'information de fisher, mais avec comme paramètre les probabilités des autres propositions ...\n",
    "\n",
    "#### idées pour les feuilles :\n",
    "\n",
    "les feuilles sont toutes completements vraies (ne peuvent etre que des faits), et ensuite il n'y a que des avis ...  (ca simplifie bcp de choses ...), mais ca parait compliqué \n",
    "\n",
    "#### idées pour une gestion generale :\n",
    "que la valeur de vérité puissent être une proposition ? genre \"la proba de telle proposition est de tant\" ?\n",
    "\n",
    "#### idées pour la sémantique de la probabilité :\n",
    "Si P(\"les pommes sont rouges\") = 0.8, cela ne veut pas dire que 80% des pommes sont rouges, cela veut dire que la probabilité que toutes les pommes sont rouges est de 80%. Si on sait que 80% des pommes sont rouges, alors on a P(\"les pommes sont rouges\") = 0.\n",
    "\n",
    "#### idées sur le genre de proposition possible :\n",
    "à priori il serait impossible de faire une proposition du type \"la probabilité de telle proposition est de 0.8\". La raison pour laquelle ceci semble impossible n'est pas encore limpide, même si il semble que cela ait un rapport avec la différence existante entre un prédicat d'ordre 1, et un prédicat d'ordre supérieur. À priori, non seulement les phrases uyilisées dans ALB-Q sont toutes des prédicats d'ordre 1, mais en plus ce sont de simples propositions, dans le sens où c'est le calcul des propositions qui s'appliquent dans ALB-Q et non le calcul des prédicats, étant donné qu'on ne s'intéresse pas au contenu des propositions mais seulement aux relations qui les lient.\n",
    "\n",
    "Il existe dans python.sympy.logic des fonctions qui permettend de faire des calculs de propositions, à voir si cela peut aider pour alb-Q :\n",
    "\n",
    "http://docs.sympy.org/dev/modules/logic.html\n",
    "\n",
    "également : \n",
    "\n",
    "http://fr.wikipedia.org/wiki/Calcul_des_propositions\n",
    "\n",
    "http://en.wikipedia.org/wiki/Propositional_calculus\n",
    "\n",
    "#### idées sur l'utilisation de l'incertitude:\n",
    "si une proposition A avec un grand degre d'incertitude (disons, qui ne depend de l'avis que d'un utilisateur) tend a nier une proposition B qui est à la fois avec une probabilité importante et avec une incertitude faible (genre l'avis de plein d'utilisateurs et des expériences, ce genre de choses ...), alors la résolution du système devra tendre à diminuer la probabilité de la proposition A. A priori, tel qu'il semble actuellement être, le système comprend déjà ce cas de figure, cf reflexion sur la concurrence. Cependant c'est un point à vérifier.\n",
    "\n",
    "\n",
    "#### idées pour la gestion de l'avis des utilisateurs:\n",
    "donc chaque vote d'utilisateur est une proposition du style \"michel pense ceci de telle proposition\", qui elle est certaine, et une proposition \"michel a toujours raison sur tel sujet\", avec, en plus de cela, des covariance importante entre utilisateurs. \n",
    "\n",
    "du coup, vu que une seule des proposition est donnée comme certaine, les autres bougeront naturellement en fonction de l'avis des utilisateurs, si un utilisateurs vote beaucoup contre des propositions certaines, \"michel a toujours raison sur tel sujet\" aura une probabilité très faible (cf le morceau sur la concurrence entre proposition).\n",
    "\n",
    "#### idées pour la gestion de l'avis des utilisateurs:\n",
    "pourquoi ne pas appliquer une sorte de classement elo entre assertions ? étant donné tous les votes des utilisateurs quelle est la probabilité (en quelques sortes) que telle assertion soit plus vrais que telle autre ?\n",
    "\n",
    "#### autre idées pour la gestion de l'avis des utilisateurs:\n",
    "ne prendre en compte l'avis des utilisateurs que sur les feuilles ?\n",
    "et après si une feuille vient a contredire beaucoup de gens, juste l'indiquer sur la feuille ... :)\n",
    "\n",
    "#### question\n",
    "le fait que le reseau d'assertions puisse avoir une forme de retroaction me fait beaucoup penser a la renormalisation dans le modele standard .. "
   ]
  },
  {
   "cell_type": "markdown",
   "metadata": {},
   "source": [
    "### travail sur la resolution de systeme d'equation ...\n",
    "\n",
    "idées en vrac :\n",
    "\n",
    "* utiliser une méthode de newton pour trouver le point fixe du système \n",
    "\n",
    "Pour la méthode de newton :\n",
    "f(x) est la fonction qui donne l'ensemble des fonctions de répartitions de probabilité des propositions\n",
    "à priori, si $X_0$ est la solution, on a :\n",
    "\n",
    "$\\lim\\limits_{n \\to \\infty }f^n(x) \\not = X_0$\n",
    "\n",
    "vu que peut-etre que c'est un systeme instable ... (ou alors qui possede des minimums locaux) ..\n",
    "\n",
    "donc il faudrait au minimum introduire une temperature, genre une sorte de recuit simulé (recuit sur $x$) ...\n",
    "\n",
    "et ne pourrait-on pas utiliser une méthode du pivot pour résoudre le système ? (genre méthode du pivot mais tuné à la main :) ) "
   ]
  },
  {
   "cell_type": "markdown",
   "metadata": {},
   "source": [
    "# Travail sur l'implémentation\n",
    "\n",
    "idée de base pour l'implémentation : \n",
    "\n",
    "On peut faire des calculs sur la fonction de répartition des probas, mais il faut aussi le faire en même temps sur les probas purs (qui elles donnent un résultat exact) afin de pouvoir ajsuter le résultat du calcul sur les fonction de répartition des probas."
   ]
  },
  {
   "cell_type": "markdown",
   "metadata": {},
   "source": [
    "###### travail sur le \"et\" logique\n",
    "\n",
    "on suppose B et C connus et indépendant entre eux\n",
    "\n",
    "on calcul A = B & C\n",
    "\n",
    "on a donc P(P(A)) = P(P(A & C))\n",
    "\n",
    "$F_{P(A)}(t) = P(P(A) >= t)$\n",
    "\n",
    "et \n",
    "\n",
    "$f_{P(A)}(t) = P(P(A) == t)$\n",
    "\n",
    "tout d'abord, nous allons supposer que B et C sont independants entre eux.\n",
    "\n",
    "$f_{P(A)}(t) = P(P(A) == t) $\n",
    "\n",
    "$f_{P(A)}(t) = \\frac{\\#(P(A)=t)}{\\#P(A)}$\n",
    "\n",
    "$f_{P(A)}(t) = \\frac{\\#((P(B)P(C))=t)}{\\#P(B)P(C)}$\n",
    "\n",
    "s'achant que :\n",
    "\n",
    "$\\#P(A) = \\#P(B) = \\#P(C) = 1 $ car on considere la probabilite des valeurs des differentes probalites."
   ]
  },
  {
   "cell_type": "code",
   "execution_count": 6,
   "metadata": {
    "collapsed": false
   },
   "outputs": [],
   "source": [
    "from matplotlib import pyplot"
   ]
  },
  {
   "cell_type": "code",
   "execution_count": 7,
   "metadata": {
    "collapsed": false
   },
   "outputs": [],
   "source": [
    "# par exemple :\n",
    "n = 100\n",
    "\n",
    "fpc = np.sin(np.arange(n)*np.pi/(n))\n",
    "fpc = fpc / fpc.sum()\n",
    "\n",
    "fpb = np.ones(n)\n",
    "fpb = fpb / fpb.sum()\n",
    "\n",
    "\n",
    "\n",
    "#addition des deux fonctions de densite de la probabilite\n",
    "fpa = np.zeros(n)\n",
    "\n",
    "for i in range(n):\n",
    "    for j in range(n):\n",
    "        i_new = i + 0.5\n",
    "        j_new = j + 0.5\n",
    "        fpa[np.round(int(i_new*j_new/n))] += fpb[i] * fpc[j]\n",
    "        \n",
    "# TODO : faire une version qui gere un peu mieux la parti floor, parce que il y a des artefacts a cause du \n",
    "#        boxon entre le i*j et la fonction floor (ou round, suivant ce qui est utilisé ...)\n",
    "#        genre si i * j  est egal a 0.55, le mettre a egalite entre [0.54; 0.55] et [0.55; 0.56]\n",
    "\n",
    "\n",
    "# piste de reflexion :\n",
    "# voir si une reflexion sur les logs des probas (ou l'inverse des logs ...) ne permettrait pas d'avoir une \n",
    "# plus grande precision ... genre au lieu de découper 0..1 de maniere reguliere, mettre plus de precision vers\n",
    "# les 1 et les 0 ... (vers les 0 aussi pour garder une certaine de symetrie entre une proposition et sa negation)"
   ]
  },
  {
   "cell_type": "code",
   "execution_count": 8,
   "metadata": {
    "collapsed": false
   },
   "outputs": [
    {
     "data": {
      "image/png": "[encoded data removed]",
      "text/plain": [
       "<matplotlib.figure.Figure at 0x1048f3e10>"
      ]
     },
     "metadata": {},
     "output_type": "display_data"
    }
   ],
   "source": [
    "plot(fpa, label=\"fpa\")\n",
    "plot(fpb, label=\"fpb\")\n",
    "plot(fpc, label=\"fpc\")\n",
    "legend();"
   ]
  },
  {
   "cell_type": "code",
   "execution_count": 12,
   "metadata": {
    "collapsed": false
   },
   "outputs": [
    {
     "data": {
      "image/png": "[encoded data removed]",
      "text/plain": [
       "<matplotlib.figure.Figure at 0x10fa857d0>"
      ]
     },
     "metadata": {},
     "output_type": "display_data"
    }
   ],
   "source": [
    "# cas ou B et C sont surs a 100%\n",
    "\n",
    "fpb = np.zeros(n) ; fpb[-1] = 1\n",
    "fpc = np.zeros(n) ; fpc[-1] = 1\n",
    "\n",
    "fpa = np.zeros(n)\n",
    "\n",
    "for i in range(n):\n",
    "    for j in range(n):\n",
    "        i_new = i + 0.5\n",
    "        j_new = j + 0.5\n",
    "        fpa[np.round(int(i_new*j_new/100))] += fpb[i] * fpc[j]\n",
    "        \n",
    "plot(fpa, label=\"fpa\")\n",
    "plot(fpb, label=\"fpb\")\n",
    "plot(fpc, label=\"fpc\")\n",
    "legend();\n"
   ]
  },
  {
   "cell_type": "markdown",
   "metadata": {},
   "source": [
    "####### travail sur le \"ou\" logique\n",
    "\n",
    "On suppose  B et C independants. \n",
    "\n",
    "Soit A tel que :\n",
    "\n",
    "$A = B || C$\n",
    "\n",
    "de manière générale, on a :\n",
    "\n",
    "$P(B || C) = P(B) + P(C) - P(B \\& C)$\n",
    "\n",
    "dans le cas où B et C sont independants, on a :\n",
    "\n",
    "$P(B || C) = P(B) + P(C) - P(B)P(C)$\n",
    "\n",
    "donc, en notant $f_{P(A)}(t)$ la fonction de densite de la probabilite de A :\n",
    "\n",
    "$f_{P(A)}(t) = P(P(A) == t)$\n",
    "\n",
    "$f_{P(A)}(t) = P(P(B) + P(C) - P(B)P(C) == t)$\n",
    "\n",
    "en travaillant dans le discret :\n",
    "\n",
    "$f_{P(A)}(t) = \\frac{\\#(P(B) + P(C) - P(B)P(C) == t)}{\\#P(B)P(C)}$\n"
   ]
  },
  {
   "cell_type": "code",
   "execution_count": 5,
   "metadata": {
    "collapsed": false
   },
   "outputs": [
    {
     "data": {
      "image/png": "[encoded data removed]",
      "text/plain": [
       "<matplotlib.figure.Figure at 0x10f743910>"
      ]
     },
     "metadata": {},
     "output_type": "display_data"
    }
   ],
   "source": [
    "fpc = np.sin(np.arange(n)*np.pi/(n))\n",
    "fpc = fpc / fpc.sum()\n",
    "\n",
    "fpb = np.ones(n)\n",
    "fpb = fpb / fpb.sum()\n",
    "\n",
    "fpa = np.zeros(n)\n",
    "\n",
    "for i in range(n):\n",
    "    for j in range(n):\n",
    "        i_new = i + 0.5\n",
    "        j_new = j + 0.5\n",
    "        k = np.round(int(i_new + j_new - (i_new*j_new)/100))\n",
    "        fpa[k] += fpb[i] * fpc[j]\n",
    "        \n",
    "plot(fpa, label=\"fpa\")\n",
    "plot(fpb, label=\"fpb\")\n",
    "plot(fpc, label=\"fpc\")\n",
    "legend();"
   ]
  },
  {
   "cell_type": "code",
   "execution_count": 6,
   "metadata": {
    "collapsed": false
   },
   "outputs": [
    {
     "data": {
      "image/png": "[encoded data removed]",
      "text/plain": [
       "<matplotlib.figure.Figure at 0x10f809590>"
      ]
     },
     "metadata": {},
     "output_type": "display_data"
    }
   ],
   "source": [
    "fpc = np.sin(np.arange(n)*np.pi/(n))\n",
    "fpc = fpc / fpc.sum()\n",
    "\n",
    "fpb = np.zeros(n)\n",
    "fpb[0] = 1\n",
    "\n",
    "fpa = np.zeros(n)\n",
    "\n",
    "for i in range(n):\n",
    "    for j in range(n):\n",
    "        i_new = i + 0.5\n",
    "        j_new = j + 0.5\n",
    "        k = np.round(int(i_new + j_new - (i_new*j_new)/100))\n",
    "        fpa[k] += fpb[i] * fpc[j]\n",
    "        \n",
    "plot(fpa, label=\"fpa\")\n",
    "#plot(fpb, label=\"fpb\")\n",
    "plot(fpc, label=\"fpc\")\n",
    "legend();"
   ]
  },
  {
   "cell_type": "markdown",
   "metadata": {},
   "source": [
    "##### travail sur la negation\n",
    "\n",
    "si on a \n",
    "\n",
    "$A = \\neg B$\n",
    "\n",
    "et que l'on a la fonction de densite de la probabilite de $A$ $F_{P(A)}(t)$, peut-on trouver $F_{P(B)}(t)$ ?\n",
    "\n",
    "* $F_{P(\\neg A)}(t) = P(P(\\neg A) == t)$\n",
    "* $F_{P(\\neg A)}(t) = P(1 -P(A) == t)$\n",
    "* $F_{P(\\neg A)}(t) = P(P(A) == 1 - t)$\n",
    "* $F_{P(\\neg A)}(t) = F_{P(A)}(1 - t)$"
   ]
  },
  {
   "cell_type": "code",
   "execution_count": 7,
   "metadata": {
    "collapsed": false
   },
   "outputs": [
    {
     "data": {
      "image/png": "[encoded data removed]",
      "text/plain": [
       "<matplotlib.figure.Figure at 0x10f25a250>"
      ]
     },
     "metadata": {},
     "output_type": "display_data"
    }
   ],
   "source": [
    "# negation en pratique\n",
    "import numpy as np\n",
    "import matplotlib.pyplot as plt\n",
    "\n",
    "n = 100\n",
    "\n",
    "fp_a = np.arange(n)**2\n",
    "fp_a = fp_a / float(fp_a.sum())\n",
    "\n",
    "fp_non_a = fp_a[::-1]\n",
    "        \n",
    "plot(fp_a, label=\"fp(a)\")\n",
    "plot(fp_non_a, label=\"fp_non_a\")\n",
    "legend();"
   ]
  },
  {
   "cell_type": "markdown",
   "metadata": {},
   "source": [
    "#### travail sur la concurrence\n",
    "\n",
    "mettons nous dans le cas où :\n",
    "\n",
    "* $ B \\rightarrow A $\n",
    "* $ C \\rightarrow \\neg A $\n",
    "\n",
    "avec $B$ et $C$ connus.\n",
    "\n",
    "Donc on a : \n",
    "\n",
    "* $ B . \\neg C  \\rightarrow A $\n",
    "\n",
    "qui devrait donner le meme resultat que :\n",
    "\n",
    "* $ C . \\neg B  \\rightarrow \\neg A $\n",
    "\n",
    "enfin, cela introduit egalement une contrainte de la forme :\n",
    "\n",
    "* $ C \\rightarrow \\neg B $\n",
    "\n",
    "et \n",
    "\n",
    "* $ B \\rightarrow \\neg C $\n",
    "\n",
    "Au final, lorsqu'une concurrence apparait, la contrainte ne se fait pas sur le calcul de $A$ (la proposition à droite des implications), mais bien sur une modification de $B$ et $C$, les propositions à gauche des implications.\n",
    "\n",
    "Nota Bene : \n",
    "\n",
    "$ C \\rightarrow \\neg A $ implique  $ A \\rightarrow \\neg C $, donc il y a une certaine commutation de la relation, qui fait qu'il y a une certaine symetrie des conseaquences de cette relation.\n",
    "\n",
    "Par contre $ C.D.E \\rightarrow \\neg A $ implique $ A \\rightarrow \\neg C + \\neg D + \\neg E $\n",
    "\n"
   ]
  },
  {
   "cell_type": "markdown",
   "metadata": {},
   "source": [
    "### note\n",
    "\n",
    "normalement il n'est pas necessaire d'avoir de jolie relation dans l'arbre pour que cela fonctionne ....\n",
    "\n",
    "genre il faudrait que :\n",
    "\n",
    "$A \\& B \\rightarrow C$\n",
    "\n",
    "but \n",
    "\n",
    "$A \\& \\neg B \\not \\rightarrow C$\n",
    "\n",
    "....\n",
    "\n",
    "on peut avoir \n",
    "\n",
    "$A \\& B \\rightarrow C$\n",
    "\n",
    "en ajoutant seulement \n",
    "\n",
    "$A \\rightarrow C$\n",
    "\n",
    "dans ce cas la premiere n'a plus aucune importance (via la resolution du systeme)"
   ]
  },
  {
   "cell_type": "markdown",
   "metadata": {},
   "source": [
    "### Annexe : références interessantes\n",
    "\n",
    "http://deepdive.stanford.edu/doc/general/inference.html    (notamment la page sur les factor graph, qui se rapprochent un peu de mon truc)\n",
    "\n",
    "http://en.wikipedia.org/wiki/Propositional_calculus        (qui ressemble beaucoup à ce que je fais, même si c'est un peu plus compliqué)\n",
    "\n",
    "http://docs.sympy.org/dev/modules/logic.html               (peut éventuellement fournir des outils pour utiliser mon machin)\n",
    "\n",
    "http://journals.plos.org/plosone/article?id=10.1371/journal.pone.0128193   (parcourir wikipedia pour faire du fact checking automatique)\n",
    "\n",
    "http://news.indiana.edu/releases/iu/2015/06/computational-fact-checker.shtml  (parcouri wikipedia pour faire du fact checking automatique, article résumé)"
   ]
  },
  {
   "cell_type": "markdown",
   "metadata": {},
   "source": [
    "### Annexe : bibliotheque utilisées dans albq"
   ]
  },
  {
   "cell_type": "code",
   "execution_count": 37,
   "metadata": {
    "collapsed": false
   },
   "outputs": [],
   "source": [
    "import pip"
   ]
  },
  {
   "cell_type": "code",
   "execution_count": 38,
   "metadata": {
    "collapsed": true
   },
   "outputs": [],
   "source": [
    "def nom_et_version(paquet):\n",
    "    return paquet.project_name + \" \" + paquet.version"
   ]
  },
  {
   "cell_type": "code",
   "execution_count": 56,
   "metadata": {
    "collapsed": false
   },
   "outputs": [
    {
     "data": {
      "text/plain": [
       "['backports.ssl-match-hostname 3.4.0.2',\n",
       " 'basemap 1.0.7',\n",
       " 'BeautifulSoup 3.2.1',\n",
       " 'beautifulsoup4 4.3.2',\n",
       " 'bigfloat 0.3.0',\n",
       " 'bokeh 0.6.1',\n",
       " 'certifi 14.05.14',\n",
       " 'cffi 0.8.6',\n",
       " 'click 3.3',\n",
       " 'colorama 0.3.2',\n",
       " 'cryptography 0.5.4',\n",
       " 'Cython 0.20.2',\n",
       " 'dbf 0.95.013',\n",
       " 'decorator 3.4.0',\n",
       " 'descartes 1.0.1',\n",
       " 'enum34 1.0',\n",
       " 'Fiona 1.2.0',\n",
       " 'Flask 0.10.1',\n",
       " 'geopy 1.9.1',\n",
       " 'gevent 1.0.1',\n",
       " 'gevent-websocket 0.9.3',\n",
       " 'gnureadline 6.3.3',\n",
       " 'google-api-python-client 1.2',\n",
       " 'googleapiclient 1.2',\n",
       " 'googlemaps 1.0.2',\n",
       " 'GoogleMapsApi 0.02.0',\n",
       " 'greenlet 0.4.5',\n",
       " 'httplib2 0.9',\n",
       " 'ipython 3.0.0',\n",
       " 'itsdangerous 0.24',\n",
       " 'Jinja2 2.7.3',\n",
       " 'jsonschema 2.4.0',\n",
       " 'lxml 3.3.6',\n",
       " 'Markdown 2.5.1',\n",
       " 'MarkupSafe 0.23',\n",
       " 'matplotlib 1.4.3',\n",
       " 'mistune 0.5.1',\n",
       " 'mock 1.0.1',\n",
       " 'mpmath 0.19',\n",
       " 'networkx 1.9',\n",
       " 'nose 1.3.4',\n",
       " 'numpy 1.9.2',\n",
       " 'oauth2client 1.2',\n",
       " 'osmapi 0.3.1',\n",
       " 'pandas 0.15.0',\n",
       " 'pycparser 2.10',\n",
       " 'pycrypto 2.6.1',\n",
       " 'pygeocoder 1.2.5',\n",
       " 'Pygments 1.6',\n",
       " 'pyOpenSSL 0.14',\n",
       " 'pyparsing 2.0.3',\n",
       " 'PySAL 1.8.0',\n",
       " 'pystache 0.5.4',\n",
       " 'python-dateutil 2.4.0',\n",
       " 'pytz 2014.10',\n",
       " 'PyYAML 3.11',\n",
       " 'pyzmq 14.4.1',\n",
       " 'requests 2.4.3',\n",
       " 'scipy 0.14.0',\n",
       " 'Shapely 1.4.0',\n",
       " 'simplejson 3.6.3',\n",
       " 'six 1.9.0',\n",
       " 'sympy 0.7.5',\n",
       " 'tornado 4.1',\n",
       " 'uritemplate 0.6',\n",
       " 'virtualenv 1.11.6',\n",
       " 'waitress 0.8.9',\n",
       " 'WebOb 1.4',\n",
       " 'websocket 0.2.1',\n",
       " 'WebTest 2.0.16',\n",
       " 'Werkzeug 0.9.6']"
      ]
     },
     "execution_count": 56,
     "metadata": {},
     "output_type": "execute_result"
    }
   ],
   "source": [
    "map(nom_et_version, pip.get_installed_distributions())"
   ]
  }
 ],
 "metadata": {
  "kernelspec": {
   "display_name": "Python 2",
   "language": "python",
   "name": "python2"
  },
  "language_info": {
   "codemirror_mode": {
    "name": "ipython",
    "version": 2
   },
   "file_extension": ".py",
   "mimetype": "text/x-python",
   "name": "python",
   "nbconvert_exporter": "python",
   "pygments_lexer": "ipython2",
   "version": "2.7.5"
  }
 },
 "nbformat": 4,
 "nbformat_minor": 0
}
